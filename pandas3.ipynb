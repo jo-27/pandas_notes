{
 "cells": [
  {
   "cell_type": "code",
   "execution_count": 1,
   "id": "e42525f1-58c9-4eeb-b132-fd55c446f3b7",
   "metadata": {},
   "outputs": [],
   "source": [
    "import pandas as pd\n",
    "import matplotlib.pyplot as plt"
   ]
  },
  {
   "cell_type": "code",
   "execution_count": 2,
   "id": "3ddf5c37-88fa-406f-899e-59437155da42",
   "metadata": {},
   "outputs": [],
   "source": [
    "dfemp=pd.read_excel('newemp.xlsx')"
   ]
  },
  {
   "cell_type": "code",
   "execution_count": 3,
   "id": "b9375753-08c4-484c-8515-ae10869e8c2e",
   "metadata": {},
   "outputs": [],
   "source": [
    "dfemp=dfemp.drop(columns=['Unnamed: 0'])"
   ]
  },
  {
   "cell_type": "code",
   "execution_count": 4,
   "id": "a127a7b5-7a6a-44e8-9268-449a6bab30d4",
   "metadata": {},
   "outputs": [
    {
     "data": {
      "text/html": [
       "<div>\n",
       "<style scoped>\n",
       "    .dataframe tbody tr th:only-of-type {\n",
       "        vertical-align: middle;\n",
       "    }\n",
       "\n",
       "    .dataframe tbody tr th {\n",
       "        vertical-align: top;\n",
       "    }\n",
       "\n",
       "    .dataframe thead th {\n",
       "        text-align: right;\n",
       "    }\n",
       "</style>\n",
       "<table border=\"1\" class=\"dataframe\">\n",
       "  <thead>\n",
       "    <tr style=\"text-align: right;\">\n",
       "      <th></th>\n",
       "      <th>empid</th>\n",
       "      <th>ename</th>\n",
       "      <th>dept</th>\n",
       "      <th>desig</th>\n",
       "      <th>doj</th>\n",
       "      <th>doc</th>\n",
       "      <th>salary</th>\n",
       "      <th>bonus</th>\n",
       "      <th>bonusamt</th>\n",
       "      <th>location</th>\n",
       "      <th>mobile</th>\n",
       "      <th>gender</th>\n",
       "    </tr>\n",
       "  </thead>\n",
       "  <tbody>\n",
       "    <tr>\n",
       "      <th>0</th>\n",
       "      <td>101</td>\n",
       "      <td>RAJARAM</td>\n",
       "      <td>sales</td>\n",
       "      <td>Sales Executive</td>\n",
       "      <td>2019-01-10</td>\n",
       "      <td>2019-07-11</td>\n",
       "      <td>25000</td>\n",
       "      <td>0.10</td>\n",
       "      <td>2500</td>\n",
       "      <td>chennai</td>\n",
       "      <td>7787543211</td>\n",
       "      <td>M</td>\n",
       "    </tr>\n",
       "    <tr>\n",
       "      <th>1</th>\n",
       "      <td>102</td>\n",
       "      <td>RAMYA</td>\n",
       "      <td>sales</td>\n",
       "      <td>Sales Executive</td>\n",
       "      <td>2021-02-15</td>\n",
       "      <td>2021-08-16</td>\n",
       "      <td>10000</td>\n",
       "      <td>0.15</td>\n",
       "      <td>1500</td>\n",
       "      <td>chennai</td>\n",
       "      <td>9986744321</td>\n",
       "      <td>F</td>\n",
       "    </tr>\n",
       "    <tr>\n",
       "      <th>2</th>\n",
       "      <td>103</td>\n",
       "      <td>GAYATHRI</td>\n",
       "      <td>accounts</td>\n",
       "      <td>Manager</td>\n",
       "      <td>2023-01-19</td>\n",
       "      <td>NaT</td>\n",
       "      <td>15000</td>\n",
       "      <td>0.10</td>\n",
       "      <td>1500</td>\n",
       "      <td>chennai</td>\n",
       "      <td>4432567899</td>\n",
       "      <td>F</td>\n",
       "    </tr>\n",
       "    <tr>\n",
       "      <th>3</th>\n",
       "      <td>104</td>\n",
       "      <td>SHABEER</td>\n",
       "      <td>accounts</td>\n",
       "      <td>Junior Executive</td>\n",
       "      <td>2023-02-26</td>\n",
       "      <td>NaT</td>\n",
       "      <td>10000</td>\n",
       "      <td>0.15</td>\n",
       "      <td>1500</td>\n",
       "      <td>delhi</td>\n",
       "      <td>9955443142</td>\n",
       "      <td>M</td>\n",
       "    </tr>\n",
       "    <tr>\n",
       "      <th>4</th>\n",
       "      <td>105</td>\n",
       "      <td>SURESH KUMAR</td>\n",
       "      <td>sales</td>\n",
       "      <td>Sales Manager</td>\n",
       "      <td>2016-04-29</td>\n",
       "      <td>2016-09-30</td>\n",
       "      <td>38000</td>\n",
       "      <td>0.05</td>\n",
       "      <td>1900</td>\n",
       "      <td>chennai</td>\n",
       "      <td>7965432122</td>\n",
       "      <td>M</td>\n",
       "    </tr>\n",
       "    <tr>\n",
       "      <th>5</th>\n",
       "      <td>106</td>\n",
       "      <td>KESAVAN</td>\n",
       "      <td>IT</td>\n",
       "      <td>Developer</td>\n",
       "      <td>2018-06-30</td>\n",
       "      <td>2018-07-01</td>\n",
       "      <td>60000</td>\n",
       "      <td>0.05</td>\n",
       "      <td>3000</td>\n",
       "      <td>delhi</td>\n",
       "      <td>8989787893</td>\n",
       "      <td>M</td>\n",
       "    </tr>\n",
       "    <tr>\n",
       "      <th>6</th>\n",
       "      <td>107</td>\n",
       "      <td>NAVEEN</td>\n",
       "      <td>IT</td>\n",
       "      <td>Testing</td>\n",
       "      <td>2015-08-23</td>\n",
       "      <td>2015-11-24</td>\n",
       "      <td>26000</td>\n",
       "      <td>0.05</td>\n",
       "      <td>1300</td>\n",
       "      <td>bangalore</td>\n",
       "      <td>4432567899</td>\n",
       "      <td>M</td>\n",
       "    </tr>\n",
       "    <tr>\n",
       "      <th>7</th>\n",
       "      <td>108</td>\n",
       "      <td>PREMA</td>\n",
       "      <td>IT</td>\n",
       "      <td>Testing</td>\n",
       "      <td>2023-12-17</td>\n",
       "      <td>NaT</td>\n",
       "      <td>12000</td>\n",
       "      <td>0.10</td>\n",
       "      <td>1200</td>\n",
       "      <td>chennai</td>\n",
       "      <td>8765487654</td>\n",
       "      <td>F</td>\n",
       "    </tr>\n",
       "    <tr>\n",
       "      <th>8</th>\n",
       "      <td>109</td>\n",
       "      <td>CHARLES</td>\n",
       "      <td>sales</td>\n",
       "      <td>Sales Manager</td>\n",
       "      <td>2024-07-16</td>\n",
       "      <td>NaT</td>\n",
       "      <td>38000</td>\n",
       "      <td>0.05</td>\n",
       "      <td>1900</td>\n",
       "      <td>delhi</td>\n",
       "      <td>1234567890</td>\n",
       "      <td>M</td>\n",
       "    </tr>\n",
       "    <tr>\n",
       "      <th>9</th>\n",
       "      <td>110</td>\n",
       "      <td>ASHOK</td>\n",
       "      <td>IT</td>\n",
       "      <td>Developer</td>\n",
       "      <td>2024-03-13</td>\n",
       "      <td>NaT</td>\n",
       "      <td>45000</td>\n",
       "      <td>0.05</td>\n",
       "      <td>2250</td>\n",
       "      <td>bangalore</td>\n",
       "      <td>8765487654</td>\n",
       "      <td>M</td>\n",
       "    </tr>\n",
       "  </tbody>\n",
       "</table>\n",
       "</div>"
      ],
      "text/plain": [
       "   empid         ename      dept             desig        doj        doc  \\\n",
       "0    101       RAJARAM     sales   Sales Executive 2019-01-10 2019-07-11   \n",
       "1    102         RAMYA     sales   Sales Executive 2021-02-15 2021-08-16   \n",
       "2    103      GAYATHRI  accounts           Manager 2023-01-19        NaT   \n",
       "3    104       SHABEER  accounts  Junior Executive 2023-02-26        NaT   \n",
       "4    105  SURESH KUMAR     sales     Sales Manager 2016-04-29 2016-09-30   \n",
       "5    106       KESAVAN        IT         Developer 2018-06-30 2018-07-01   \n",
       "6    107        NAVEEN        IT           Testing 2015-08-23 2015-11-24   \n",
       "7    108         PREMA        IT           Testing 2023-12-17        NaT   \n",
       "8    109       CHARLES     sales     Sales Manager 2024-07-16        NaT   \n",
       "9    110         ASHOK        IT         Developer 2024-03-13        NaT   \n",
       "\n",
       "   salary  bonus  bonusamt   location      mobile gender  \n",
       "0   25000   0.10      2500    chennai  7787543211      M  \n",
       "1   10000   0.15      1500    chennai  9986744321      F  \n",
       "2   15000   0.10      1500    chennai  4432567899      F  \n",
       "3   10000   0.15      1500      delhi  9955443142      M  \n",
       "4   38000   0.05      1900    chennai  7965432122      M  \n",
       "5   60000   0.05      3000      delhi  8989787893      M  \n",
       "6   26000   0.05      1300  bangalore  4432567899      M  \n",
       "7   12000   0.10      1200    chennai  8765487654      F  \n",
       "8   38000   0.05      1900      delhi  1234567890      M  \n",
       "9   45000   0.05      2250  bangalore  8765487654      M  "
      ]
     },
     "execution_count": 4,
     "metadata": {},
     "output_type": "execute_result"
    }
   ],
   "source": [
    "dfemp"
   ]
  },
  {
   "cell_type": "code",
   "execution_count": 5,
   "id": "999afde1-3fa6-4af5-936e-d6d46a665b6f",
   "metadata": {},
   "outputs": [],
   "source": [
    "dtot=dfemp.groupby(['dept']).salary.sum()"
   ]
  },
  {
   "cell_type": "code",
   "execution_count": 6,
   "id": "2d3ba5df-1620-48f6-af1f-f2d9e41a2cd5",
   "metadata": {},
   "outputs": [
    {
     "data": {
      "text/plain": [
       "dept\n",
       "IT          143000\n",
       "accounts     25000\n",
       "sales       111000\n",
       "Name: salary, dtype: int64"
      ]
     },
     "execution_count": 6,
     "metadata": {},
     "output_type": "execute_result"
    }
   ],
   "source": [
    "dtot"
   ]
  },
  {
   "cell_type": "code",
   "execution_count": 7,
   "id": "e81f2f7e-fd34-43e6-9e27-543c722eb59b",
   "metadata": {},
   "outputs": [],
   "source": [
    "dname=list(dtot.index)\n",
    "data=list(dtot.values)"
   ]
  },
  {
   "cell_type": "code",
   "execution_count": 9,
   "id": "11942521-6397-4e7d-9141-dbf0576b8974",
   "metadata": {},
   "outputs": [
    {
     "data": {
      "text/plain": [
       "['IT', 'accounts', 'sales']"
      ]
     },
     "execution_count": 9,
     "metadata": {},
     "output_type": "execute_result"
    }
   ],
   "source": [
    "dname"
   ]
  },
  {
   "cell_type": "code",
   "execution_count": 10,
   "id": "4df4c699-2cf0-4089-8e76-dd0901fdad86",
   "metadata": {},
   "outputs": [
    {
     "data": {
      "text/plain": [
       "[143000, 25000, 111000]"
      ]
     },
     "execution_count": 10,
     "metadata": {},
     "output_type": "execute_result"
    }
   ],
   "source": [
    "data"
   ]
  },
  {
   "cell_type": "code",
   "execution_count": 11,
   "id": "92ad2df4-edaa-4ee9-952a-37aa7bec75d0",
   "metadata": {},
   "outputs": [
    {
     "data": {
      "image/png": "[encoded data removed]",
      "text/plain": [
       "<Figure size 640x480 with 1 Axes>"
      ]
     },
     "metadata": {},
     "output_type": "display_data"
    }
   ],
   "source": [
    "plt.pie(data, labels=dname)\n",
    "\n",
    "plt.show()"
   ]
  },
  {
   "cell_type": "code",
   "execution_count": 12,
   "id": "6c802aa4-c873-4f9b-9c80-6759acbfcf74",
   "metadata": {},
   "outputs": [
    {
     "data": {
      "image/png": "[encoded data removed]",
      "text/plain": [
       "<Figure size 640x480 with 1 Axes>"
      ]
     },
     "metadata": {},
     "output_type": "display_data"
    }
   ],
   "source": [
    "plt.pie(data, labels=dname,startangle=-90,autopct='%1.1f%%',explode=(0,0.1,0))\n",
    "\n",
    "# show plot\n",
    "plt.show()"
   ]
  },
  {
   "cell_type": "code",
   "execution_count": 15,
   "id": "eb9f925c-3e56-48b3-a732-5e9589213ed7",
   "metadata": {},
   "outputs": [
    {
     "name": "stdout",
     "output_type": "stream",
     "text": [
      "(<Figure size 640x480 with 1 Axes>, <Axes: >)\n"
     ]
    },
    {
     "data": {
      "image/png": "[encoded data removed]",
      "text/plain": [
       "<Figure size 640x480 with 1 Axes>"
      ]
     },
     "metadata": {},
     "output_type": "display_data"
    }
   ],
   "source": [
    "print(plt.subplots())\n",
    "plt.title('Department wise Salary Expenses\\n') \n",
    "plt.pie(data, labels=dname,\n",
    "        startangle=-90,\n",
    "        autopct='%1.1f%%',\n",
    "        explode=(0,0.2,0),\n",
    "        shadow=True,\n",
    "        colors=('pink','purple','blue'),\n",
    "        textprops={'size': 'larger'}, radius=1)\n",
    "\n",
    "# show plot\n",
    "plt.show()"
   ]
  },
  {
   "cell_type": "code",
   "execution_count": null,
   "id": "4316fbf5-5dce-4c9a-b395-f94b19127c77",
   "metadata": {},
   "outputs": [],
   "source": []
  }
 ],
 "metadata": {
  "kernelspec": {
   "display_name": "Python 3 (ipykernel)",
   "language": "python",
   "name": "python3"
  },
  "language_info": {
   "codemirror_mode": {
    "name": "ipython",
    "version": 3
   },
   "file_extension": ".py",
   "mimetype": "text/x-python",
   "name": "python",
   "nbconvert_exporter": "python",
   "pygments_lexer": "ipython3",
   "version": "3.11.1"
  }
 },
 "nbformat": 4,
 "nbformat_minor": 5
}
